{
 "cells": [
  {
   "cell_type": "markdown",
   "metadata": {},
   "source": [
    "Expected Value vs. CVaR Comparison\n",
    "\n",
    "Mauricio Tombini, Jordan Jalving, and Victor M. Zavala \n",
    "\n",
    "University of Wisconsin-Madison, 2016"
   ]
  },
  {
   "cell_type": "code",
   "execution_count": 1,
   "metadata": {
    "collapsed": false
   },
   "outputs": [
    {
     "name": "stderr",
     "output_type": "stream",
     "text": [
      "\u001b[1m\u001b[34mINFO: Recompiling stale cache file /Users/vzavala/.julia/lib/v0.4/PyPlot.ji for module PyPlot.\n",
      "\u001b[0m"
     ]
    }
   ],
   "source": [
    "# Loading packages:\n",
    "using JuMP \n",
    "using Distributions \n",
    "using Ipopt\n",
    "using PyPlot"
   ]
  },
  {
   "cell_type": "code",
   "execution_count": 2,
   "metadata": {
    "collapsed": true
   },
   "outputs": [],
   "source": [
    "# Generate random data: \n",
    "NS = 100\n",
    "S = collect(1:NS); \n",
    "srand(0)\n",
    "μ = 0; σ = 2; \n",
    "d = Normal(μ,σ)\n",
    "R = rand(d,NS);"
   ]
  },
  {
   "cell_type": "code",
   "execution_count": 3,
   "metadata": {
    "collapsed": false
   },
   "outputs": [
    {
     "data": {
      "image/png": "[encoded data removed]",
      "text/plain": [
       "PyPlot.Figure(PyObject <matplotlib.figure.Figure object at 0x31d341e90>)"
      ]
     },
     "metadata": {},
     "output_type": "display_data"
    },
    {
     "data": {
      "text/plain": [
       "PyObject <matplotlib.text.Text object at 0x31d3e93d0>"
      ]
     },
     "execution_count": 3,
     "metadata": {},
     "output_type": "execute_result"
    }
   ],
   "source": [
    "# Plotting data\n",
    "plt[:hist](R, bins = 30);\n",
    "grid(\"on\")\n",
    "xlabel(L\"\\xi\")\n",
    "ylabel(L\"p(\\xi)\")"
   ]
  },
  {
   "cell_type": "markdown",
   "metadata": {},
   "source": [
    "## Solve expected value problem"
   ]
  },
  {
   "cell_type": "code",
   "execution_count": 4,
   "metadata": {
    "collapsed": false
   },
   "outputs": [
    {
     "ename": "LoadError",
     "evalue": "syntax: missing comma or ) in argument list",
     "output_type": "error",
     "traceback": [
      "syntax: missing comma or ) in argument list",
      ""
     ]
    }
   ],
   "source": [
    "m = Model(solver=IpoptSolver(print_level=0))\n",
    "\n",
    "@variable(m, x)            # decision variable\n",
    "@variable(m, cost[1:NS])   # per scenario cost\n",
    "@constraint(m, costeq[s in S], cost[s] == (x-R[s])^2 + R[s]*x) \n",
    "@objective(m, Min, (1/NS)*sum(cost[s] for s in S))\n",
    "\n",
    "solve(m)\n",
    "solcost = getvalue(cost);\n",
    "println(\"x=\",getvalue(x))\n",
    "println(\"mean=\",getobjectivevalue(m))"
   ]
  },
  {
   "cell_type": "code",
   "execution_count": 5,
   "metadata": {
    "collapsed": false
   },
   "outputs": [
    {
     "ename": "LoadError",
     "evalue": "UndefVarError: solcost not defined",
     "output_type": "error",
     "traceback": [
      "UndefVarError: solcost not defined",
      ""
     ]
    }
   ],
   "source": [
    "# Plotting cost fistribution \n",
    "plt[:hist](solcost,bins = 30)\n",
    "grid(\"on\")\n",
    "axis([-10, 50, 0, 50])\n",
    "xlabel(L\"f(x^*(\\xi),\\xi)\")\n",
    "ylabel(L\"p(f(\\cdot))\")"
   ]
  },
  {
   "cell_type": "markdown",
   "metadata": {},
   "source": [
    "## Solve CVaR Problem"
   ]
  },
  {
   "cell_type": "code",
   "execution_count": 8,
   "metadata": {
    "collapsed": false
   },
   "outputs": [
    {
     "ename": "LoadError",
     "evalue": "syntax: missing comma or ) in argument list",
     "output_type": "error",
     "traceback": [
      "syntax: missing comma or ) in argument list",
      ""
     ]
    }
   ],
   "source": [
    "m = Model(solver=IpoptSolver(print_level=0))\n",
    "\n",
    "@variable(m, x)              # decision variable\n",
    "@variable(m, cost[1:NS])     # per scenario cost\n",
    "@variable(m, VaR)            # cvar auxiliary variable\n",
    "@variable(m, phi[S] >= 0)    # cvar auxiliary variable\n",
    "alpha = 0.0001;              # cvar probability level\n",
    "\n",
    "@constraint(m, costeq[s in S], cost[s] == (x-R[s])^2 + R[s]*x) \n",
    "@constraint(m, cvar[s in S], cost[s]-VaR <= phi[s])\n",
    "@objective(m, Min, VaR + (1/NS)*sum((1/alpha)*phi[s] for s in S))\n",
    "\n",
    "solve(m)\n",
    "solcost2 = getvalue(cost);\n",
    "println(\"x=\",getvalue(x))\n",
    "println(\"CVaR=\",getobjectivevalue(m))\n",
    "println(\"mean=\",(1/NS)*sum(solcost2))"
   ]
  },
  {
   "cell_type": "code",
   "execution_count": 7,
   "metadata": {
    "collapsed": false
   },
   "outputs": [
    {
     "ename": "LoadError",
     "evalue": "UndefVarError: solcost2 not defined",
     "output_type": "error",
     "traceback": [
      "UndefVarError: solcost2 not defined",
      ""
     ]
    }
   ],
   "source": [
    "# Plotting cost distribution \n",
    "plt[:hist](solcost2,bins = 30)\n",
    "grid(\"on\")\n",
    "axis([-10, 50, 0, 50])\n",
    "xlabel(L\"f(x^*(\\xi),\\xi)\")\n",
    "ylabel(L\"p(f(\\cdot))\")"
   ]
  },
  {
   "cell_type": "code",
   "execution_count": null,
   "metadata": {
    "collapsed": true
   },
   "outputs": [],
   "source": []
  }
 ],
 "metadata": {
  "anaconda-cloud": {},
  "kernelspec": {
   "display_name": "Julia 0.4.5",
   "language": "julia",
   "name": "julia-0.4"
  },
  "language_info": {
   "file_extension": ".jl",
   "mimetype": "application/julia",
   "name": "julia",
   "version": "0.4.5"
  }
 },
 "nbformat": 4,
 "nbformat_minor": 1
}
