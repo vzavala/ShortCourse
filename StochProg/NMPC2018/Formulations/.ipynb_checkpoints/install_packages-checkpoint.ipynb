{
 "cells": [
  {
   "cell_type": "markdown",
   "metadata": {},
   "source": [
    "### Stochastic Programming Short Course: Getting Started\n",
    "Victor M. Zavala & Jordan Jalving, 2017\n",
    "\n",
    "This script sets up packages needed"
   ]
  },
  {
   "cell_type": "code",
   "execution_count": null,
   "metadata": {
    "collapsed": true
   },
   "outputs": [],
   "source": [
    "Pkg.add(\"JuMP\")\n",
    "Pkg.add(\"Ipopt\")\n",
    "Pkg.add(\"Cbc\")\n",
    "Pkg.add(\"Distributions\")  \n",
    "#Pkg.add(\"PyPlot\")  \n",
    "using JuMP\n",
    "using Ipopt\n",
    "using Cbc\n",
    "using PyPlot\n",
    "using Distributions"
   ]
  }
 ],
 "metadata": {
  "kernelspec": {
   "display_name": "Julia 0.4.5",
   "language": "julia",
   "name": "julia-0.4"
  },
  "language_info": {
   "file_extension": ".jl",
   "mimetype": "application/julia",
   "name": "julia",
   "version": "0.4.5"
  }
 },
 "nbformat": 4,
 "nbformat_minor": 2
}
