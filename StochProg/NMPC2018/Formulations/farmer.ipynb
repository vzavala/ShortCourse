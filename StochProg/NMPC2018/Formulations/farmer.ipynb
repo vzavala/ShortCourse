{
 "cells": [
  {
   "cell_type": "markdown",
   "metadata": {},
   "source": [
    "Farmer problem (here-and-now) policy\n",
    "\n",
    "Mauricio Tombini, Jordan Jalving, and Victor M. Zavala \n",
    "\n",
    "University of Wisconsin-Madison, 2016"
   ]
  },
  {
   "cell_type": "code",
   "execution_count": 1,
   "metadata": {
    "collapsed": true
   },
   "outputs": [],
   "source": [
    "using JuMP \n",
    "using Ipopt "
   ]
  },
  {
   "cell_type": "code",
   "execution_count": 2,
   "metadata": {
    "collapsed": true
   },
   "outputs": [],
   "source": [
    "# Model parameters\n",
    "\n",
    "NS = 5;                  # number of scenarios\n",
    "S = collect(1:NS);       # scenario set\n",
    "P = collect(1:3);        # set of crops (1=wheat,2=corn,3=beets)\n",
    "\n",
    "# Data \n",
    "prcost = zeros(3)          # production (planting) cost\n",
    "prcost[1] = 150;\n",
    "prcost[2] = 230;\n",
    "prcost[3] = 260;\n",
    "\n",
    "pcost = zeros(3)           # purchase cost\n",
    "pcost[1] = 238;\n",
    "pcost[2] = 210;\n",
    "pcost[3] = 0;\n",
    "\n",
    "scost = zeros(3)           # sales cost\n",
    "scost[1] = 170;\n",
    "scost[2] = 150;\n",
    "scost[3] = 36;\n",
    "\n",
    "demand = zeros(3)          # demand\n",
    "demand[1] = 200;\n",
    "demand[2] = 240;\n",
    "demand[3] = 0;\n",
    "\n",
    "# assign random data\n",
    "yield = zeros(length(S),3) # yields\n",
    "yield[S,1] = 2.5;\n",
    "yield[S,2] = 3.0;\n",
    "yield[1,3] = 10;\n",
    "yield[2,3] = 15;\n",
    "yield[3,3] = 20;\n",
    "yield[4,3] = 25;\n",
    "yield[5,3] = 30;"
   ]
  },
  {
   "cell_type": "code",
   "execution_count": 3,
   "metadata": {
    "collapsed": false
   },
   "outputs": [
    {
     "name": "stdout",
     "output_type": "stream",
     "text": [
      "\n",
      "******************************************************************************\n",
      "This program contains Ipopt, a library for large-scale nonlinear optimization.\n",
      " Ipopt is released as open source code under the Eclipse Public License (EPL).\n",
      "         For more information visit http://projects.coin-or.org/Ipopt\n",
      "******************************************************************************\n",
      "\n"
     ]
    }
   ],
   "source": [
    "# Create Model (standard)\n",
    "m = Model(solver=IpoptSolver(print_level=0))\n",
    "\n",
    "@variable(m, x[P] >= 0)    # acres devoted to crops\n",
    "@variable(m, y[S,P] >= 0)    # crops purchase\n",
    "@variable(m, w[S,P] >= 0)    # crops sold;\n",
    "@variable(m, cost[s in S])   # per scenario cost\n",
    "\n",
    "@constraint(m, varcost[s in S], cost[s] == sum(prcost[j]*x[j] + pcost[j]*y[s,j] - scost[j]*w[s,j] for j in P) )\n",
    "@constraint(m, cap[s in S], sum(x[j] for j in P) <= 500)\n",
    "@constraint(m, bal[s in S,j in P], yield[s,j]*x[j]+y[s,j]-w[s,j] >= demand[j]) \n",
    "@constraint(m, sellb[s in S], w[s,3] <= 6000)\n",
    "@constraint(m, buyb[s in S], y[s,3] <= 0)\n",
    "\n",
    "@objective(m, Min, (1/NS)*sum(cost[s] for s in S))\n",
    "\n",
    "solve(m)"
   ]
  },
  {
   "cell_type": "code",
   "execution_count": 4,
   "metadata": {
    "collapsed": false
   },
   "outputs": [
    {
     "name": "stdout",
     "output_type": "stream",
     "text": [
      "x: 1 dimensions:\n",
      "[1] = 220.00000380025003\n",
      "[2] = 79.99999920015239\n",
      "[3] = 200.00000199955198\n",
      "\n",
      "y: 2 dimensions:\n",
      "[1,:]\n",
      "  [1,1] = 0.0\n",
      "  [1,2] = 0.0\n",
      "  [1,3] = 9.632874071974721e-9\n",
      "[2,:]\n",
      "  [2,1] = 0.0\n",
      "  [2,2] = 0.0\n",
      "  [2,3] = 9.749026913123416e-9\n",
      "[3,:]\n",
      "  [3,1] = 0.0\n",
      "  [3,2] = 0.0\n",
      "  [3,3] = 9.667054155588147e-9\n",
      "[4,:]\n",
      "  [4,1] = 0.0\n",
      "  [4,2] = 0.0\n",
      "  [4,3] = 9.709581102331193e-9\n",
      "[5,:]\n",
      "  [5,1] = 0.0\n",
      "  [5,2] = 0.0\n",
      "  [5,3] = 5.4591602227690745e-9\n",
      "\n",
      "w: 2 dimensions:\n",
      "[1,:]\n",
      "  [1,1] = 350.0000114907356\n",
      "  [1,2] = 0.0\n",
      "  [1,3] = 2000.0000200148047\n",
      "[2,:]\n",
      "  [2,1] = 350.0000114907356\n",
      "  [2,2] = 0.0\n",
      "  [2,3] = 3000.0000300126812\n",
      "[3,:]\n",
      "  [3,1] = 350.0000114907356\n",
      "  [3,2] = 0.0\n",
      "  [3,3] = 4000.000040010359\n",
      "[4,:]\n",
      "  [4,1] = 350.0000114907356\n",
      "  [4,2] = 0.0\n",
      "  [4,3] = 5000.000050008161\n",
      "[5,:]\n",
      "  [5,1] = 350.0000114907356\n",
      "  [5,2] = 0.0\n",
      "  [5,3] = 6000.000059999594\n",
      "\n",
      "cost: 1 dimensions:\n",
      "[1] = -28100.001770977455\n",
      "[2] = -64100.002130901\n",
      "[3] = -100100.0024908174\n",
      "[4] = -136100.0028507383\n",
      "[5] = -172100.00321042986\n",
      "\n",
      "obj -100100"
     ]
    }
   ],
   "source": [
    "# Results\n",
    "println(getvalue(x))\n",
    "println(\"\")\n",
    "println(getvalue(y))\n",
    "println(\"\")\n",
    "println(getvalue(w))\n",
    "println(\"\")\n",
    "println(getvalue(cost))\n",
    "println(\"\")\n",
    "println(\"obj \",getobjectivevalue(m))"
   ]
  },
  {
   "cell_type": "code",
   "execution_count": 5,
   "metadata": {
    "collapsed": false
   },
   "outputs": [
    {
     "data": {
      "text/plain": [
       ":Optimal"
      ]
     },
     "execution_count": 5,
     "metadata": {},
     "output_type": "execute_result"
    }
   ],
   "source": [
    "# Create Model (non-anticipativity)\n",
    "m = Model(solver=IpoptSolver(print_level=0))\n",
    "\n",
    "@variable(m, x[S,P] >= 0)    # acres devoted to crops\n",
    "@variable(m, y[S,P] >= 0)    # crops purchase\n",
    "@variable(m, w[S,P] >= 0)    # crops sold\n",
    "@variable(m, cost[s in S])   # per scenario cost\n",
    "\n",
    "@constraint(m, varcost[s in S], cost[s] == sum(prcost[j]*x[s,j] + pcost[j]*y[s,j] - scost[j]*w[s,j] for j in P)) \n",
    "@constraint(m, cap[s in S], sum(x[s,j] for j in P) <= 500)\n",
    "@constraint(m, bal[s in S,j in P], yield[s,j]*x[s,j]+y[s,j]-w[s,j] >= demand[j]) \n",
    "@constraint(m, sellb[s in S], w[s,3] <= 6000)\n",
    "@constraint(m, buyb[s in S], y[s,3] <= 0)\n",
    "@constraint(m, nonant[s in S,j in P], x[1,j] == x[s,j])\n",
    "\n",
    "@objective(m, Min, (1/NS)*sum(cost[s] for s in S))\n",
    "\n",
    "solve(m)"
   ]
  },
  {
   "cell_type": "code",
   "execution_count": 6,
   "metadata": {
    "collapsed": false
   },
   "outputs": [
    {
     "name": "stdout",
     "output_type": "stream",
     "text": [
      "x: 2 dimensions:\n",
      "[1,:]\n",
      "  [1,1] = 220.00000379973474\n",
      "  [1,2] = 79.99999920015239\n",
      "  [1,3] = 200.0000020000673\n",
      "[2,:]\n",
      "  [2,1] = 220.00000379973474\n",
      "  [2,2] = 79.99999920015239\n",
      "  [2,3] = 200.0000020000673\n",
      "[3,:]\n",
      "  [3,1] = 220.00000379973474\n",
      "  [3,2] = 79.99999920015239\n",
      "  [3,3] = 200.0000020000673\n",
      "[4,:]\n",
      "  [4,1] = 220.00000379973474\n",
      "  [4,2] = 79.99999920015239\n",
      "  [4,3] = 200.0000020000673\n",
      "[5,:]\n",
      "  [5,1] = 220.00000379973474\n",
      "  [5,2] = 79.99999920015239\n",
      "  [5,3] = 200.0000020000673\n",
      "\n",
      "y: 2 dimensions:\n",
      "[1,:]\n",
      "  [1,1] = 0.0\n",
      "  [1,2] = 0.0\n",
      "  [1,3] = 0.0\n",
      "[2,:]\n",
      "  [2,1] = 0.0\n",
      "  [2,2] = 0.0\n",
      "  [2,3] = 0.0\n",
      "[3,:]\n",
      "  [3,1] = 0.0\n",
      "  [3,2] = 0.0\n",
      "  [3,3] = 0.0\n",
      "[4,:]\n",
      "  [4,1] = 0.0\n",
      "  [4,2] = 0.0\n",
      "  [4,3] = 0.0\n",
      "[5,:]\n",
      "  [5,1] = 0.0\n",
      "  [5,2] = 0.0\n",
      "  [5,3] = 0.0\n",
      "\n",
      "w: 2 dimensions:\n",
      "[1,:]\n",
      "  [1,1] = 350.00001148944745\n",
      "  [1,2] = 0.0\n",
      "  [1,3] = 2000.0000200003253\n",
      "[2,:]\n",
      "  [2,1] = 350.00001148944745\n",
      "  [2,2] = 0.0\n",
      "  [2,3] = 3000.000030000662\n",
      "[3,:]\n",
      "  [3,1] = 350.00001148944745\n",
      "  [3,2] = 0.0\n",
      "  [3,3] = 4000.0000400009985\n",
      "[4,:]\n",
      "  [4,1] = 350.00001148944745\n",
      "  [4,2] = 0.0\n",
      "  [4,3] = 5000.000050001335\n",
      "[5,:]\n",
      "  [5,1] = 350.00001148944745\n",
      "  [5,2] = 0.0\n",
      "  [5,3] = 6000.000059999594\n",
      "\n",
      "cost: 1 dimensions:\n",
      "[1] = -28100.001770180523\n",
      "[2] = -64100.00213019264\n",
      "[3] = -100100.00249020477\n",
      "[4] = -136100.00285021687\n",
      "[5] = -172100.00321015422\n",
      "\n",
      "obj -100100.00249018983\n"
     ]
    }
   ],
   "source": [
    "# Results\n",
    "println(getvalue(x))\n",
    "println(\"\")\n",
    "println(getvalue(y))\n",
    "println(\"\")\n",
    "println(getvalue(w))\n",
    "println(\"\")\n",
    "println(getvalue(cost))\n",
    "println(\"\")\n",
    "println(\"obj \",getobjectivevalue(m))"
   ]
  }
 ],
 "metadata": {
  "anaconda-cloud": {},
  "kernelspec": {
   "display_name": "Julia 0.5.2",
   "language": "julia",
   "name": "julia-0.5"
  },
  "language_info": {
   "file_extension": ".jl",
   "mimetype": "application/julia",
   "name": "julia",
   "version": "0.5.2"
  }
 },
 "nbformat": 4,
 "nbformat_minor": 1
}
