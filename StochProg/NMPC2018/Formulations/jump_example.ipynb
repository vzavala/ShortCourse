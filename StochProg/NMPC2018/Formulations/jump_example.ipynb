{
 "cells": [
  {
   "cell_type": "markdown",
   "metadata": {},
   "source": [
    "JuMP Example\n",
    "\n",
    "Victor M. Zavala, UW-Madison, 2016"
   ]
  },
  {
   "cell_type": "code",
   "execution_count": 8,
   "metadata": {
    "collapsed": false
   },
   "outputs": [
    {
     "name": "stdout",
     "output_type": "stream",
     "text": [
      "Max 5 x + 3 y\n",
      "Subject to\n",
      " x + 5 y ≤ 3\n",
      " 0 ≤ x ≤ 2\n",
      " 0 ≤ y ≤ 30\n"
     ]
    }
   ],
   "source": [
    "# load necessary libraries\n",
    "using JuMP\n",
    "using Cbc\n",
    "\n",
    "# declare model and solver\n",
    "m = Model(solver=CbcSolver())\n",
    "\n",
    "# add variables\n",
    "@variable(m, 0 <= x <= 2 )\n",
    "@variable(m, 0 <= y <= 30 )\n",
    "\n",
    "# add objective\n",
    "@objective(m, Max, 5x + 3*y )\n",
    "\n",
    "# add constraints\n",
    "@constraint(m, 1x + 5y <= 3.0 )\n",
    "\n",
    "# print model in readable form\n",
    "print(m)"
   ]
  },
  {
   "cell_type": "code",
   "execution_count": 9,
   "metadata": {
    "collapsed": false
   },
   "outputs": [
    {
     "name": "stdout",
     "output_type": "stream",
     "text": [
      "Objective value: 10.6\n",
      "x = 2.0\n",
      "y = 0.2\n"
     ]
    }
   ],
   "source": [
    "# solve problem\n",
    "status = solve(m)\n",
    "\n",
    "# get optimal objective and solution\n",
    "println(\"Objective value: \", getobjectivevalue(m))\n",
    "println(\"x = \", getvalue(x))\n",
    "println(\"y = \", getvalue(y))"
   ]
  }
 ],
 "metadata": {
  "kernelspec": {
   "display_name": "Julia 0.4.5",
   "language": "julia",
   "name": "julia-0.4"
  },
  "language_info": {
   "file_extension": ".jl",
   "mimetype": "application/julia",
   "name": "julia",
   "version": "0.4.5"
  }
 },
 "nbformat": 4,
 "nbformat_minor": 0
}
