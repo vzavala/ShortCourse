{
 "cells": [
  {
   "cell_type": "markdown",
   "metadata": {},
   "source": [
    "# Modeling a Gas Pipeline in JuMP\n",
    "### Jordan Jalving & Victor Zavala\n",
    "\n"
   ]
  },
  {
   "cell_type": "markdown",
   "metadata": {},
   "source": [
    "## Import JuMP and Ipopt"
   ]
  },
  {
   "cell_type": "code",
   "execution_count": 177,
   "metadata": {
    "collapsed": false
   },
   "outputs": [],
   "source": [
    "using JuMP\n",
    "using Ipopt\n",
    "using PyPlot"
   ]
  },
  {
   "cell_type": "markdown",
   "metadata": {},
   "source": [
    "## Set physical property information\n",
    "Physical property information includes gas compressibility, pipe rugosity, etc...\n",
    "We also include conversion factors for units.  Using typical gas pipeline units often results in a badly scaled optimization problem.  We convert quantities to units such that all numeric values are within the same relative orders of magnitude"
   ]
  },
  {
   "cell_type": "code",
   "execution_count": 178,
   "metadata": {
    "collapsed": false
   },
   "outputs": [],
   "source": [
    "# physical property data\n",
    "eps= 0.025\t\t             # pipe rugosity - [mm]\n",
    "z= 0.80        \t\t\t     # gas compressibility  - []\n",
    "rhon=0.72         \t\t     # density of air at normal conditions - [kg/m3]\n",
    "R=8314.0       \t\t\t     # universal gas constant [J/kgmol-K]\n",
    "M=18.0    \t\t\t         # gas molar mass [kg/kgmol]\n",
    "pi=3.14         \t\t     # pi\n",
    "T=293.15      \t\t         # reference temperature [K]\n",
    "Cp=2.34        \t\t         # heat capacity @ constant pressure [kJ/kg-K]\n",
    "Cv=1.85        \t\t         # heat capacity @ constant volume [kJ/kg-K]\n",
    "\n",
    "#scaling factors\n",
    "ffac=(1e+6*rhon)/(24*3600)                     # from scmx10-6/day to kg/s\n",
    "ffac2=(3600)/(1e+4*rhon)                       # from kg/s to scmx10-4/hr\n",
    "pfac=1e+5                                      # from bar to Pa\n",
    "pfac2=1e-5                                     # from Pa to bar\n",
    "dfac=1e-3                                      # from mm to m\n",
    "lfac=1e+3;                                     # from km to m"
   ]
  },
  {
   "cell_type": "markdown",
   "metadata": {},
   "source": [
    "# The Pipeline Model"
   ]
  },
  {
   "cell_type": "markdown",
   "metadata": {},
   "source": [
    "$\\newcommand{\\norm}[1]{\\left\\lvert#1\\right\\rvert}$\n",
    "__Objective__ (Minimize compressor cost and maximize gas delivered)\n",
    "\n",
    "$\n",
    "\\min \\varphi:=\\int_{0}^T \\left(\\alpha_{P} P(t)-\\alpha_{gas} d_{deliver}(t)\\right)dt\n",
    "$\n",
    "\n",
    "\n",
    "__Isothermal Euler Equations__\n",
    "\n",
    "$\n",
    "\\begin{align*}\n",
    "     &\\frac{\\partial p(t,x)}{\\partial t} + \\frac{c^2}{A}\\frac{\\partial f(t,x)}{\\partial x} = 0\\\\\n",
    "      &\\frac{\\partial f(t,x)}{\\partial t} + \\frac{2c^2f(t,x)}{Ap(t,x)}\\frac{\\partial f(t,x)}{\\partial x} - \\frac{c^2f(t,x)^2}{Ap(t,x)^2}\\frac{\\partial p(t,x)}{\\partial x}\n",
    "          + A\\frac{\\partial p(t,x)}{\\partial x} = -\\frac{8c^2\\lambda A}{\\pi^2D^5}\\frac{f(t,x)}{p(t,x)} \\norm{f(t,x)}\n",
    "    \\end{align*}\n",
    "$\n",
    "\n",
    "__Compressor Equation__\n",
    "\n",
    "$\n",
    "\\begin{align*}\n",
    "P(t)= c_p\\cdot T\\cdot f_{in}(t)\\cdot\\left(\\left(\\frac{p_{in}(t)+\\Delta p(t) }{p_{in}(t)}\\right)^{\\frac{\\gamma-1}\n",
    "{\\gamma}}-1\\right)\n",
    "\\end{align*}\n",
    "$\n",
    "\n",
    "__Boundary Conditions__\n",
    "\n",
    "$\n",
    "\\begin{align*}\n",
    "&p(L,t)=p_{out}(t)\\\\\n",
    "&p(0,t)=p_{in}(t)+\\Delta p(t)\n",
    "\\end{align*}\n",
    "$\n",
    "$\n",
    "\\begin{align*}\n",
    "&f(L,t)=f_{out}(t)\\\\\n",
    "&f(0,t)=f_{in}(t)\n",
    "\\end{align*}\n",
    "$\n",
    "\n",
    "__Gas Demand Relations__\n",
    "\n",
    "$\n",
    "\\begin{align*}\n",
    "&f_{out}(t) = d_{deliver}(t)\\\\\n",
    "&d_{deliver}(t) \\le d_{target}(t)\n",
    "\\end{align*}\n",
    "$\n"
   ]
  },
  {
   "cell_type": "markdown",
   "metadata": {},
   "source": [
    "## Set pipeline parameters"
   ]
  },
  {
   "cell_type": "code",
   "execution_count": 179,
   "metadata": {
    "collapsed": true
   },
   "outputs": [],
   "source": [
    "#parameters\n",
    "diameter = 0.92\n",
    "pipe_length = 60000\n",
    "area = (1/4)*pi*diameter*diameter\n",
    "lam = (2*log10(3.7*diameter/(eps*dfac)))^(-2); \n",
    "\n",
    "#other calculated constants\n",
    "gam = Cp/Cv       \t\t     \t# expansion coefficient [-]\n",
    "nu2 = gam*z*R*T/M  \t\t\t    # gas speed of sound\n",
    "om = (gam-1.0)/gam \t\t     \t# aux constant [-]\n",
    "c4 = (1/ffac2)*(Cp*T)\n",
    "#lumped constants for pipeline\n",
    "c1 = (pfac2/ffac2)*(nu2/area)\n",
    "c2 = area*(ffac2/pfac2)\n",
    "c3 = area*(pfac2/ffac2)*(8*lam*nu2)/(pi*pi*diameter^5);"
   ]
  },
  {
   "cell_type": "markdown",
   "metadata": {},
   "source": [
    "## Create time grid, spatial grid, and time horizon for optimization\n",
    "We consider a time horizon of 24 hours with a resolution of one hour\n",
    "\n",
    "We consider a spatial grid of 10 points over the length of the pipeline"
   ]
  },
  {
   "cell_type": "code",
   "execution_count": 180,
   "metadata": {
    "collapsed": false
   },
   "outputs": [],
   "source": [
    "horizon = 24*3600;                       # horizon length\n",
    "time_grid = 1:24;                        # set of temporal mesh points\n",
    "x_grid = 1:10;                           # set of spatial mesh \n",
    "dx = pipe_length / (length(x_grid) - 1)  # equally spaced spatial grid points\n",
    "dt = horizon / length(time_grid);        # equally spaced time grid points\n",
    "NS = 3 \n",
    "S = 1:NS;                                # scenario set"
   ]
  },
  {
   "cell_type": "markdown",
   "metadata": {},
   "source": [
    "## Create demand profile data\n",
    "We consider a constant gas demand and introduce a pulse from hours 10 to 15"
   ]
  },
  {
   "cell_type": "code",
   "execution_count": 181,
   "metadata": {
    "collapsed": false
   },
   "outputs": [
    {
     "data": {
      "image/png": "[encoded data removed]",
      "text/plain": [
       "PyPlot.Figure(PyObject <matplotlib.figure.Figure object at 0x7f840451eb50>)"
      ]
     },
     "metadata": {},
     "output_type": "display_data"
    }
   ],
   "source": [
    "gas_demands = zeros(3,24)\n",
    "for s in S\n",
    "    gas_demands[s,:] = fill(150,length(time_grid))\n",
    "end\n",
    "gas_demands[1,10:15] = 200\n",
    "gas_demands[2,10:15] = 500\n",
    "gas_demands[3,10:15] = 600\n",
    "\n",
    "for s in S\n",
    "    step(time_grid,gas_demands[s,:],color=\"blue\")\n",
    "end\n",
    "ax = gca()\n",
    "ax[:set_xlim]([1,24])\n",
    "xlabel(\"Time [h]\")\n",
    "ylabel(\"Demand requested [scm/h *10^4]\")\n",
    "grid(\"on\")"
   ]
  },
  {
   "cell_type": "markdown",
   "metadata": {},
   "source": [
    "## Define pipeline variables"
   ]
  },
  {
   "cell_type": "code",
   "execution_count": 182,
   "metadata": {
    "collapsed": false
   },
   "outputs": [],
   "source": [
    "m = Model(solver = IpoptSolver())\n",
    "#Define inlet, outlet, and flow variables\n",
    "@variable(m,pin[S,time_grid] >= 10, start = 60)\n",
    "@variable(m,pout[S,time_grid] >=10, start = 60)\n",
    "@variable(m,fin[S,time_grid] >=0, start = 100)\n",
    "@variable(m,fout[S,time_grid] >= 0, start = 100)\n",
    "@variable(m, px[S,time_grid,x_grid] >= 0, start = 60)\n",
    "@variable(m, fx[S,time_grid,x_grid] >= 0, start = 10)\n",
    "# Couple flow convenience variables\n",
    "@constraint(m, flow_in[s = S,t = time_grid],  fx[s,t,1] == fin[s,t])\n",
    "@constraint(m, flow_out[s = S,t = time_grid], fx[s,t,x_grid[end]] == fout[s,t]);"
   ]
  },
  {
   "cell_type": "markdown",
   "metadata": {},
   "source": [
    "## Gas demand variables and constraints"
   ]
  },
  {
   "cell_type": "code",
   "execution_count": 183,
   "metadata": {
    "collapsed": false
   },
   "outputs": [],
   "source": [
    "@variable(m,ddeliver[S,time_grid] >= 0, start = 100)\n",
    "@variable(m, dtarget[S,time_grid] >= 0)\n",
    "@constraint(m, gasLimit[s=S, t = time_grid], ddeliver[s,t] <= dtarget[s,t]);\n",
    "@constraint(m,deliver[s=S, t=time_grid],fout[s,t] == ddeliver[s,t])\n",
    "@constraint(m, demand[s=S, t = time_grid], dtarget[s,t] == gas_demands[s,t]);"
   ]
  },
  {
   "cell_type": "markdown",
   "metadata": {},
   "source": [
    "## Compressor variables and equation"
   ]
  },
  {
   "cell_type": "code",
   "execution_count": 184,
   "metadata": {
    "collapsed": false
   },
   "outputs": [],
   "source": [
    "@variable(m, dp[S,time_grid] >= 0 , start = 10)\n",
    "@variable(m, 0<=pow[S,time_grid] <= 10000, start = 500);\n",
    "@NLconstraint(m, powereqn[s=S,t = time_grid], pow[s,t] == c4*fin[s,t]*(((pin[s,t]+dp[s,t])/pin[s,t])^om-1));"
   ]
  },
  {
   "cell_type": "markdown",
   "metadata": {},
   "source": [
    "## Define PDE equations\n",
    "Here we define the isothermal euler equations, as well as the appropriate boundary conditions and initial condition.  Since we have 2 first order hyperbolic PDEs, we require 2 boundary conditions and initial conditions"
   ]
  },
  {
   "cell_type": "code",
   "execution_count": 185,
   "metadata": {
    "collapsed": false
   },
   "outputs": [],
   "source": [
    "#Auxillary variables\n",
    "@variable(m, slack1[S,time_grid,x_grid] >= 0, start = 10)  #auxiliary variable \n",
    "@variable(m, slack2[S,time_grid,x_grid] >= 0, start = 10)  #auxiliary variable\n",
    "@variable(m, slack3[S,time_grid,x_grid] >= 0, start = 10)  #auxiliary variable\n",
    "\n",
    "#Auxillary constraints (let's us avoid the fractional terms)\n",
    "@NLconstraint(m, slackeq1[s=S, t = time_grid, x = x_grid],  slack1[s,t,x]*px[s,t,x] - c3*fx[s,t,x]*fx[s,t,x] == 0)\n",
    "@NLconstraint(m, slackeq2[s=S, t = time_grid, x = x_grid],  slack2[s,t,x]*px[s,t,x] - 2*c1*fx[s,t,x] == 0)\n",
    "@NLconstraint(m, slackeq3[s=S, t = time_grid, x = x_grid],  slack3[s,t,x]*px[s,t,x]*px[s,t,x] - c1*fx[s,t,x]*fx[s,t,x] == 0)\n",
    "\n",
    "#PDE equations\n",
    "@constraint(m, mass[s=S, t = time_grid[1:end-1], x = x_grid[1:end-1]], \n",
    "(px[s,t+1,x]-px[s,t,x])/dt + c1*(fx[s,t+1,x+1]-fx[s,t+1,x])/dx == 0 )\n",
    "\n",
    "@constraint(m, momentum[s=S, t = time_grid[1:end-1], x = x_grid[1:end-1]], \n",
    "(fx[s,t+1,x]-fx[s,t,x])/dt == -slack2[s,t+1,x]*(fx[s,t+1,x+1]-fx[s,t+1,x])/dx +\n",
    "slack3[s,t+1,x]*(px[s,t+1,x+1]-px[s,t+1,x])/dx -c2*(px[s,t+1,x+1]-px[s,t+1,x])/dx - slack1[s,t+1,x])\n",
    "\n",
    "#Boundary Conditions\n",
    "@constraint(m,p_in[s=S, t = time_grid],  pin[s,t] == 54)\n",
    "@constraint(m,press_in[s=S, t = time_grid],  px[s,t,1] == pin[s,t] + dp[s,t])\n",
    "@constraint(m,press_out[s=S, t = time_grid], px[s,t,x_grid[end]] == pout[s,t])\n",
    "\n",
    "#Initial Conditions\n",
    "@constraint(m, mass_ss[s=S, t = 1, x = x_grid[1:end-1]],(fx[s,t,x+1] - fx[s,t,x]) == 0)\n",
    "@constraint(m, momentum_ss[s=S, t = 1, x = x_grid[1:end-1]], -c2*(px[s,t,x+1] - px[s,t,x])/dx - slack1[s,t,x] == 0);"
   ]
  },
  {
   "cell_type": "markdown",
   "metadata": {},
   "source": [
    "## Periodic terminal constraint\n",
    "This avoids solutions that deplete the gas in the pipeline"
   ]
  },
  {
   "cell_type": "code",
   "execution_count": 186,
   "metadata": {
    "collapsed": false
   },
   "outputs": [],
   "source": [
    "#Periodic terminal constraint\n",
    "@variable(m,linepack[S,time_grid])\n",
    "@constraint(m,linepack_cons[s=S], linepack[s,time_grid[end]] >= linepack[s,time_grid[1]]);\n",
    "@constraint(m,linepack_def[s in S,t = time_grid],linepack[s,t] == sum( fx[s,t,x] for x in x_grid)*dx);"
   ]
  },
  {
   "cell_type": "markdown",
   "metadata": {},
   "source": [
    "## Objective function terms"
   ]
  },
  {
   "cell_type": "code",
   "execution_count": 187,
   "metadata": {
    "collapsed": false
   },
   "outputs": [],
   "source": [
    "compressor_cost = 0.1  # compression cost in USD/kWh\n",
    "@variable(m, powercost[S])\n",
    "@constraint(m,boostcosteqn[s = S], powercost[s] == sum(compressor_cost*pow[s,t] for t = time_grid)*dt/3600)\n",
    "\n",
    "gas_cost = 1000        # value of gas delivered\n",
    "@variable(m, demandcost[s = S])\n",
    "@constraint(m, integratedGasCost[s = S], demandcost[s] == sum(gas_cost*ddeliver[s,t] for t = time_grid));"
   ]
  },
  {
   "cell_type": "markdown",
   "metadata": {},
   "source": [
    "## Objective function (minimize compressor cost and maximize gas delivered)"
   ]
  },
  {
   "cell_type": "code",
   "execution_count": 188,
   "metadata": {
    "collapsed": false
   },
   "outputs": [],
   "source": [
    "@objective(m,Min,(1/NS)*sum(powercost[s] - demandcost[s] for s = S));"
   ]
  },
  {
   "cell_type": "markdown",
   "metadata": {},
   "source": [
    "## Non-anticipativity Constraints"
   ]
  },
  {
   "cell_type": "code",
   "execution_count": 189,
   "metadata": {
    "collapsed": false
   },
   "outputs": [],
   "source": [
    "@constraint(m,nonant[s in S, t in time_grid; s>=1], pow[s,t]==pow[1,t]);"
   ]
  },
  {
   "cell_type": "markdown",
   "metadata": {},
   "source": [
    "## Solve the model with Ipopt"
   ]
  },
  {
   "cell_type": "code",
   "execution_count": 190,
   "metadata": {
    "collapsed": false
   },
   "outputs": [
    {
     "name": "stdout",
     "output_type": "stream",
     "text": [
      "This is Ipopt version 3.12.1, running with linear solver mumps.\n",
      "NOTE: Other linear solvers might be more efficient (see Ipopt documentation).\n",
      "\n",
      "Number of nonzeros in equality constraint Jacobian...:    19458\n",
      "Number of nonzeros in inequality constraint Jacobian.:      150\n",
      "Number of nonzeros in Lagrangian Hessian.............:    10836\n",
      "\n",
      "Total number of variables............................:     4254\n",
      "                     variables with only lower bounds:     4104\n",
      "                variables with lower and upper bounds:       72\n",
      "                     variables with only upper bounds:        0\n",
      "Total number of equality constraints.................:     4182\n",
      "Total number of inequality constraints...............:       75\n",
      "        inequality constraints with only lower bounds:        3\n",
      "   inequality constraints with lower and upper bounds:        0\n",
      "        inequality constraints with only upper bounds:       72\n",
      "\n",
      "iter    objective    inf_pr   inf_du lg(mu)  ||d||  lg(rg) alpha_du alpha_pr  ls\n",
      "   0  0.0000000e+00 2.40e+06 1.00e+00  -1.0 0.00e+00    -  0.00e+00 0.00e+00   0\n",
      "   1 -1.8678112e+04 2.39e+06 2.10e+02  -1.0 3.83e+07    -  1.65e-05 3.51e-03f  1\n",
      "   2 -4.6073448e+04 2.38e+06 2.09e+02  -1.0 3.84e+07    -  3.50e-03 5.19e-03f  1\n",
      "   3 -1.0766646e+05 2.35e+06 2.07e+02  -1.0 3.88e+07    -  9.01e-03 1.17e-02f  1\n",
      "   4 -1.1813268e+05 2.35e+06 2.06e+02  -1.0 4.03e+07    -  3.46e-02 2.00e-03f  1\n",
      "   5 -2.1912559e+05 2.30e+06 2.02e+02  -1.0 3.91e+07    -  3.77e-02 1.95e-02f  1\n",
      "   6 -5.2429289e+05 2.16e+06 1.90e+02  -1.0 3.83e+07    -  6.04e-02 6.01e-02f  1\n",
      "   7 -1.6741862e+06 1.64e+06 1.44e+02  -1.0 3.60e+07    -  9.31e-02 2.41e-01f  1\n",
      "   8 -2.0161314e+06 1.49e+06 1.31e+02  -1.0 2.68e+07    -  3.37e-02 9.43e-02f  1\n",
      "   9 -2.0182223e+06 1.49e+06 1.31e+02  -1.0 1.99e+07    -  1.06e-02 6.37e-04f  1\n",
      "iter    objective    inf_pr   inf_du lg(mu)  ||d||  lg(rg) alpha_du alpha_pr  ls\n",
      "  10 -2.0255380e+06 1.48e+06 1.30e+02  -1.0 1.99e+07    -  3.88e-03 2.23e-03f  1\n",
      "  11 -2.0371583e+06 1.48e+06 1.30e+02  -1.0 1.97e+07    -  4.65e-05 3.56e-03f  1\n",
      "  12 -2.0419717e+06 1.48e+06 1.30e+02  -1.0 1.93e+07    -  1.83e-04 1.53e-03f  1\n",
      "  13 -2.0495765e+06 1.47e+06 1.29e+02  -1.0 1.92e+07    -  7.39e-04 2.42e-03f  1\n",
      "  14 -2.0578909e+06 1.47e+06 1.29e+02  -1.0 1.93e+07    -  1.08e-04 2.76e-03f  1\n",
      "  15 -2.0602098e+06 1.47e+06 1.29e+02  -1.0 1.91e+07    -  1.11e-03 7.74e-04f  1\n",
      "  16 -2.0646720e+06 1.46e+06 1.29e+02  -1.0 1.92e+07    -  1.15e-04 1.55e-03f  1\n",
      "  17 -2.1258234e+06 1.43e+06 2.96e+02  -1.0 1.91e+07    -  1.32e-03 2.13e-02f  1\n",
      "  18 -2.1267076e+06 1.43e+06 2.95e+02  -1.0 1.77e+07    -  2.72e-04 3.32e-04f  1\n",
      "  19 -2.1277734e+06 1.43e+06 2.95e+02  -1.0 1.76e+07    -  8.58e-04 3.99e-04f  1\n",
      "iter    objective    inf_pr   inf_du lg(mu)  ||d||  lg(rg) alpha_du alpha_pr  ls\n",
      "  20 -2.2165494e+06 1.38e+06 4.04e+02  -1.0 1.76e+07    -  2.08e-03 3.32e-02f  1\n",
      "  21 -2.2178352e+06 1.38e+06 4.04e+02  -1.0 1.42e+07    -  1.81e-04 5.30e-04f  1\n",
      "  22 -2.2183731e+06 1.38e+06 4.04e+02  -1.0 1.48e+07    -  6.99e-04 2.24e-04f  1\n",
      "  23 -2.2369745e+06 1.37e+06 4.00e+02  -1.0 1.48e+07    -  8.71e-03 7.74e-03f  1\n",
      "  24 -2.2387242e+06 1.37e+06 4.00e+02  -1.0 1.43e+07    -  1.14e-04 7.33e-04f  1\n",
      "  25 -2.2399596e+06 1.37e+06 4.00e+02  -1.0 1.43e+07    -  3.62e-05 5.36e-04f  1\n",
      "  26 -2.2519830e+06 1.36e+06 3.99e+02  -1.0 1.42e+07    -  3.88e-03 5.22e-03f  1\n",
      "  27 -2.2538703e+06 1.36e+06 3.98e+02  -1.0 1.38e+07    -  6.05e-05 8.30e-04f  1\n",
      "  28 -2.2555134e+06 1.36e+06 3.98e+02  -1.0 1.37e+07    -  2.23e-04 7.48e-04f  1\n",
      "  29 -2.2851356e+06 1.34e+06 3.96e+02  -1.0 1.37e+07    -  2.48e-03 1.35e-02f  1\n",
      "iter    objective    inf_pr   inf_du lg(mu)  ||d||  lg(rg) alpha_du alpha_pr  ls\n",
      "  30 -2.2861457e+06 1.34e+06 3.96e+02  -1.0 1.22e+07    -  1.00e-04 4.82e-04f  1\n",
      "  31 -2.2870819e+06 1.34e+06 3.96e+02  -1.0 1.22e+07    -  5.71e-04 4.51e-04f  1\n",
      "  32 -2.3206409e+06 1.32e+06 3.94e+02  -1.0 1.21e+07    -  2.42e-03 1.62e-02f  1\n",
      "  33 -2.3215331e+06 1.32e+06 3.93e+02  -1.0 1.13e+07    -  1.40e-04 4.58e-04f  1\n",
      "  34 -2.3222192e+06 1.32e+06 3.93e+02  -1.0 1.15e+07    -  5.91e-04 3.55e-04f  1\n",
      "  35 -2.3495635e+06 1.30e+06 3.91e+02  -1.0 1.15e+07    -  2.41e-03 1.42e-02f  1\n",
      "  36 -2.3503563e+06 1.30e+06 3.90e+02  -1.0 9.25e+06    -  4.94e-04 4.36e-04f  1\n",
      "  37 -2.3514706e+06 1.30e+06 3.90e+02  -1.0 8.46e+06    -  1.09e-03 6.10e-04f  1\n",
      "  38 -2.7218847e+06 1.04e+06 1.83e+03  -1.0 8.48e+06    -  2.46e-03 2.03e-01f  1\n",
      "  39 -2.7236706e+06 1.03e+06 1.83e+03  -1.0 7.62e+06    -  2.30e-03 1.35e-03f  1\n",
      "iter    objective    inf_pr   inf_du lg(mu)  ||d||  lg(rg) alpha_du alpha_pr  ls\n",
      "  40 -2.7243994e+06 1.03e+06 1.83e+03  -1.0 6.08e+06    -  5.51e-03 5.40e-04f  1\n",
      "  41 -2.8821330e+06 9.12e+05 1.66e+03  -1.0 6.10e+06    -  3.82e-03 1.17e-01f  1\n",
      "  42 -3.2076879e+06 6.35e+05 1.27e+03  -1.0 5.06e+06    -  1.22e-03 3.04e-01f  1\n",
      "  43 -3.3651654e+06 5.02e+05 9.55e+02  -1.0 3.50e+06    -  3.81e-01 2.09e-01f  1\n",
      "  44 -4.0001180e+06 4.71e+04 2.08e+02  -1.0 3.05e+06    -  2.43e-01 1.00e+00f  1\n",
      "  45 -4.0398239e+06 1.69e+04 1.25e+02  -1.0 1.38e+06    -  3.48e-01 7.23e-01f  1\n",
      "  46 -4.0479889e+06 3.55e+03 6.38e+01  -1.0 5.43e+05    -  4.75e-01 7.88e-01f  1\n",
      "  47 -4.0515921e+06 3.98e+03 3.41e+01  -1.0 5.68e+05    -  4.76e-01 8.93e-01f  1\n",
      "  48 -4.0527540e+06 3.21e+03 2.44e+01  -1.0 5.35e+05    -  2.90e-01 9.26e-01f  1\n",
      "  49 -4.0535074e+06 1.70e+03 9.20e+00  -1.0 4.76e+05    -  6.23e-01 9.66e-01f  1\n",
      "iter    objective    inf_pr   inf_du lg(mu)  ||d||  lg(rg) alpha_du alpha_pr  ls\n",
      "  50 -4.0536849e+06 3.53e+01 3.73e+00  -1.0 7.44e+04    -  5.94e-01 1.00e+00f  1\n",
      "  51 -4.0538153e+06 3.12e+03 2.65e+00  -1.0 4.83e+05    -  2.90e-01 1.00e+00f  1\n",
      "  52 -4.0538252e+06 3.13e+02 6.86e-02  -1.0 2.51e+05    -  9.90e-01 1.00e+00h  1\n",
      "  53 -4.0538338e+06 3.46e+02 4.28e-02  -1.0 1.98e+05    -  1.00e+00 1.00e+00f  1\n",
      "  54 -4.0538335e+06 8.03e+01 1.20e-02  -1.0 1.04e+05    -  1.00e+00 1.00e+00h  1\n",
      "  55 -4.0538326e+06 1.21e+01 1.76e-03  -1.0 4.00e+04    -  1.00e+00 1.00e+00h  1\n",
      "  56 -4.0538475e+06 3.06e+00 5.10e-04  -1.7 2.16e+04    -  1.00e+00 1.00e+00f  1\n",
      "  57 -4.0538501e+06 1.38e-01 2.24e-05  -2.5 4.80e+03    -  1.00e+00 1.00e+00f  1\n",
      "  58 -4.0538505e+06 2.04e-03 9.35e-07  -3.8 5.96e+02    -  1.00e+00 1.00e+00f  1\n",
      "  59 -4.0538505e+06 8.94e-05 1.14e-02  -5.7 3.00e+01    -  1.00e+00 9.58e-01h  1\n",
      "iter    objective    inf_pr   inf_du lg(mu)  ||d||  lg(rg) alpha_du alpha_pr  ls\n",
      "  60 -4.0538505e+06 1.10e-07 2.35e-08  -5.7 1.27e+00    -  1.00e+00 1.00e+00f  1\n",
      "  61 -4.0538505e+06 1.10e-07 3.22e-01  -8.6 3.47e-01    -  1.00e+00 7.75e-01h  1\n",
      "  62 -4.0538505e+06 1.10e-07 4.22e-01  -8.6 7.80e-02    -  1.00e+00 8.57e-01h  1\n",
      "  63 -4.0538505e+06 1.10e-07 1.45e+00  -8.6 2.14e-02    -  5.54e-01 7.03e-01f  1\n",
      "  64 -4.0538505e+06 1.06e-07 1.70e+00  -8.6 2.97e+01    -  2.46e-03 6.25e-02f  5\n",
      "  65 -4.0538505e+06 9.99e-07 4.60e+00  -8.6 2.92e+01    -  1.79e-01 1.00e+00H  1\n",
      "  66 -4.0538505e+06 1.06e-07 4.74e-12  -8.6 2.80e-03    -  1.00e+00 1.00e+00h  1\n",
      "  67 -4.0538505e+06 1.06e-07 9.69e-13  -8.6 2.81e-03    -  1.00e+00 1.00e+00h  1\n",
      "  68 -4.0538505e+06 1.06e-07 5.41e-13  -8.6 1.07e-06    -  1.00e+00 1.00e+00h  1\n",
      "  69 -4.0538505e+06 1.06e-07 1.21e+00  -8.6 9.26e-07    -  1.00e+00 1.25e-01h  4\n",
      "iter    objective    inf_pr   inf_du lg(mu)  ||d||  lg(rg) alpha_du alpha_pr  ls\n",
      "  70 -4.0538505e+06 1.06e-07 1.34e+00  -8.6 9.25e-07    -  1.00e+00 3.12e-02h  6\n",
      "  71 -4.0538505e+06 1.06e-07 4.73e-13  -8.6 9.32e-07    -  1.00e+00 1.00e+00h  1\n",
      "  72 -4.0538505e+06 1.06e-07 1.38e+00  -8.6 9.43e-07    -  1.00e+00 2.44e-04h 13\n",
      "  73 -4.0538505e+06 1.06e-07 6.90e-01  -8.6 9.81e-07    -  1.00e+00 5.00e-01h  2\n",
      "  74 -4.0538505e+06 1.06e-07 1.04e+00  -8.6 9.95e-07    -  1.00e+00 2.50e-01h  3\n",
      "  75 -4.0538505e+06 1.06e-07 5.98e-13  -8.6 1.02e-06    -  1.00e+00 1.00e+00h  1\n",
      "  76 -4.0538505e+06 1.06e-07 1.04e+00  -8.6 1.10e-06    -  1.00e+00 2.50e-01h  3\n",
      "  77 -4.0538505e+06 1.06e-07 1.21e+00  -8.6 1.17e-06    -  1.00e+00 1.25e-01h  4\n",
      "  78 -4.0538505e+06 1.06e-07 1.37e+00  -8.6 1.18e-06    -  1.00e+00 7.81e-03h  8\n",
      "  79 -4.0538505e+06 1.06e-07 1.36e+00  -8.6 1.19e-06    -  1.00e+00 1.56e-02h  7\n",
      "iter    objective    inf_pr   inf_du lg(mu)  ||d||  lg(rg) alpha_du alpha_pr  ls\n",
      "  80 -4.0538505e+06 1.06e-07 1.34e+00  -8.6 1.19e-06    -  1.00e+00 3.12e-02h  6\n",
      "  81 -4.0538505e+06 1.06e-07 1.04e+00  -8.6 1.19e-06    -  1.00e+00 2.50e-01h  3\n",
      "  82 -4.0538505e+06 1.06e-07 1.04e+00  -8.6 1.19e-06    -  1.00e+00 2.50e-01h  3\n",
      "  83 -4.0538505e+06 1.06e-07 4.61e-13  -8.6 1.22e-06    -  1.00e+00 1.00e+00h  1\n",
      "  84 -4.0538505e+06 1.06e-07 1.38e+00  -8.6 1.34e-06    -  1.00e+00 6.10e-05h 15\n",
      "  85 -4.0538505e+06 1.06e-07 6.87e-13  -8.6 1.41e-06    -  1.00e+00 1.00e+00s 22\n",
      "\n",
      "Number of Iterations....: 85\n",
      "\n",
      "                                   (scaled)                 (unscaled)\n",
      "Objective...............:  -4.0538505107151205e+06   -4.0538505107151205e+06\n",
      "Dual infeasibility......:   6.8687322520417803e-13    6.8687322520417803e-13\n",
      "Constraint violation....:   1.0638481587332826e-07    1.0638481587332826e-07\n",
      "Complementarity.........:   2.5062747627246684e-09    2.5062747627246684e-09\n",
      "Overall NLP error.......:   1.0638481587332826e-07    1.0638481587332826e-07\n",
      "\n",
      "\n",
      "Number of objective function evaluations             = 193\n",
      "Number of objective gradient evaluations             = 87\n",
      "Number of equality constraint evaluations            = 193\n",
      "Number of inequality constraint evaluations          = 193\n",
      "Number of equality constraint Jacobian evaluations   = 87\n",
      "Number of inequality constraint Jacobian evaluations = 87\n",
      "Number of Lagrangian Hessian evaluations             = 86\n",
      "Total CPU secs in IPOPT (w/o function evaluations)   =      2.064\n",
      "Total CPU secs in NLP function evaluations           =      2.312\n",
      "\n",
      "EXIT: Solved To Acceptable Level.\n"
     ]
    }
   ],
   "source": [
    "solve(m)"
   ]
  },
  {
   "cell_type": "markdown",
   "metadata": {
    "collapsed": true
   },
   "source": [
    "## Plot resulting profiles"
   ]
  },
  {
   "cell_type": "code",
   "execution_count": 191,
   "metadata": {
    "collapsed": false,
    "scrolled": true
   },
   "outputs": [
    {
     "data": {
      "image/png": "[encoded data removed]",
      "text/plain": [
       "PyPlot.Figure(PyObject <matplotlib.figure.Figure object at 0x7f8404ad7a90>)"
      ]
     },
     "metadata": {},
     "output_type": "display_data"
    }
   ],
   "source": [
    "for s=S\n",
    "    for t=time_grid\n",
    "d_profile[s,t] = getvalue(ddeliver[s,t])\n",
    "    end\n",
    "    step(time_grid,d_profile[s,:],color=\"red\")\n",
    "end\n",
    "ax = gca()\n",
    "ax[:set_xlim]([1,24])\n",
    "xlabel(\"Time [h]\")\n",
    "ylabel(\"Demand delivered [scm/h *10^4]\")\n",
    "grid(\"on\")"
   ]
  },
  {
   "cell_type": "code",
   "execution_count": 192,
   "metadata": {
    "collapsed": false
   },
   "outputs": [
    {
     "data": {
      "image/png": "[encoded data removed]",
      "text/plain": [
       "PyPlot.Figure(PyObject <matplotlib.figure.Figure object at 0x7f840455d4d0>)"
      ]
     },
     "metadata": {},
     "output_type": "display_data"
    }
   ],
   "source": [
    "for s=S\n",
    "    for t=time_grid\n",
    "d_profile[s,t] = getvalue(pow[s,t])\n",
    "    end\n",
    "    step(time_grid,d_profile[s,:],color=\"blue\")\n",
    "end\n",
    "ax = gca()\n",
    "ax[:set_xlim]([1,24])\n",
    "xlabel(\"Time [h]\")\n",
    "ylabel(\"Compressor Power [-]\")\n",
    "grid(\"on\")"
   ]
  },
  {
   "cell_type": "code",
   "execution_count": null,
   "metadata": {
    "collapsed": true
   },
   "outputs": [],
   "source": []
  }
 ],
 "metadata": {
  "anaconda-cloud": {},
  "kernelspec": {
   "display_name": "Julia 0.4.5",
   "language": "julia",
   "name": "julia-0.4"
  },
  "language_info": {
   "file_extension": ".jl",
   "mimetype": "application/julia",
   "name": "julia",
   "version": "0.4.5"
  }
 },
 "nbformat": 4,
 "nbformat_minor": 2
}
