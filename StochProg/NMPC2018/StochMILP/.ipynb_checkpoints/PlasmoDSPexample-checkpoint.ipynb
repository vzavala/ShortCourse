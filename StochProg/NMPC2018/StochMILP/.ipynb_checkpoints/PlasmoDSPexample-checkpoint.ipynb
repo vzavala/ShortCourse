{
 "cells": [
  {
   "cell_type": "code",
   "execution_count": null,
   "metadata": {
    "collapsed": true
   },
   "outputs": [],
   "source": [
    "using JuMP, Plasmo \n",
    "\n",
    "# Comment out this line if you want to run in serial\n",
    "# using MPI\n",
    "# MPI.Init()\n",
    "\n",
    "xi = [[7,7] [11,11] [13,13]]\n",
    "\n",
    "# create empty Plasmo model\n",
    "graph = GraphModel()\n",
    "master = Model()\n",
    "master_node = add_node(graph,master)\n",
    "\n",
    "@variable(master, 0 <= x[i=1:2] <= 5, Int)\n",
    "@objective(master, Min, -1.5 * x[1] - 4 * x[2])\n",
    "children_nodes = Array{NodeOrEdge}(3)\n",
    "for s = 1:3\n",
    "    # create a JuMP.Model block linked to m with id s and probability 1/3\n",
    "    blk = Model()\n",
    "    child_node = add_node(graph,blk)\n",
    "    children_nodes[s] = child_node\n",
    "    @variable(blk, y[j=1:4], Bin)\n",
    "    @objective(blk, Min, -16 * y[1] + 19 * y[2] + 23 * y[3] + 28 * y[4])\n",
    "    @linkconstraint(graph, 2 * y[1] + 3 * y[2] + 4 * y[3] + 5 * y[4] <= xi[1,s] - master[:x][1])\n",
    "    @linkconstraint(graph, 6 * y[1] + y[2] + 3 * y[3] + 2 * y[4] <= xi[2,s] - master[:x][2])\n",
    "end\n",
    "\n",
    "solve_types = [:Dual, :Benders, :Extensive]\n",
    "status = dsp_solve(graph,master_node,children_nodes,solve_type = solve_types[2])  #probabilities are 1/NS by default\n",
    "\n",
    "# get optimal objective value\n",
    "getobjectivevalue(master)\n",
    "\n",
    "# get first-stage variables\n",
    "println(getvalue(master[:x]))\n",
    "\n",
    "# get recourse veriables\n",
    "for node in children_nodes\n",
    "    println(getvalue(node[:y]))\n",
    "end\n",
    "\n",
    "# Comment out this line if you want to run in serial\n",
    "# MPI.Finalize()"
   ]
  }
 ],
 "metadata": {
  "anaconda-cloud": {},
  "kernelspec": {
   "display_name": "Julia 0.4.5",
   "language": "julia",
   "name": "julia-0.4"
  },
  "language_info": {
   "file_extension": ".jl",
   "mimetype": "application/julia",
   "name": "julia",
   "version": "0.4.5"
  }
 },
 "nbformat": 4,
 "nbformat_minor": 0
}
