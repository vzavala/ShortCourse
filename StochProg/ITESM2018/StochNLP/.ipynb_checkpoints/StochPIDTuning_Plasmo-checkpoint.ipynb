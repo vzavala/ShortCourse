{
 "cells": [
  {
   "cell_type": "code",
   "execution_count": 1,
   "metadata": {},
   "outputs": [
    {
     "ename": "LoadError",
     "evalue": "MethodError: no method matching pipsnlp_solve(::Plasmo.PlasmoGraph, ::JuMP.Model, ::Array{JuMP.Model,1})\u001b[0m\nClosest candidates are:\n  pipsnlp_solve(::Plasmo.PlasmoGraph, \u001b[1m\u001b[31m::Union{Plasmo.AbstractEdge,Plasmo.AbstractNode}\u001b[0m, \u001b[1m\u001b[31m::Array{Union{Plasmo.AbstractEdge,Plasmo.AbstractNode},1}\u001b[0m) at /home/zavalatejeda/.julia/v0.5/Plasmo/src/solvers/plasmoPipsNlpInterface.jl:83\u001b[0m",
     "output_type": "error",
     "traceback": [
      "MethodError: no method matching pipsnlp_solve(::Plasmo.PlasmoGraph, ::JuMP.Model, ::Array{JuMP.Model,1})\u001b[0m\nClosest candidates are:\n  pipsnlp_solve(::Plasmo.PlasmoGraph, \u001b[1m\u001b[31m::Union{Plasmo.AbstractEdge,Plasmo.AbstractNode}\u001b[0m, \u001b[1m\u001b[31m::Array{Union{Plasmo.AbstractEdge,Plasmo.AbstractNode},1}\u001b[0m) at /home/zavalatejeda/.julia/v0.5/Plasmo/src/solvers/plasmoPipsNlpInterface.jl:83\u001b[0m",
      ""
     ]
    }
   ],
   "source": [
    "# optimal PID controller tuning\n",
    "# Victor M. Zavala\n",
    "# UW-Madison, 2017\n",
    "\n",
    "using Ipopt\n",
    "using Plasmo\n",
    "using JuMP\n",
    "MPI.Init()  # Initialize MPI\n",
    "\n",
    "# sets\n",
    "NS=3;       # Number of scenarios \n",
    " N=100;     # Number of timesteps\n",
    "Tf=10;      # Final time\n",
    " h=Tf/N;    # Time step\n",
    " T=1:N;     # Set of times\n",
    "Tm=1:N-1;   # Set of times minus one\n",
    "\n",
    "# set time vector\n",
    "time=zeros(N);\n",
    "for t=1:N\n",
    " time[t] = h*(t-1);\n",
    "end\n",
    "\n",
    "# scenario data\n",
    "K=zeros(NS);   # system gain\n",
    "x0=zeros(NS);  # initial state\n",
    "Kd=zeros(NS);  # disturbance gain\n",
    "tau=zeros(NS); # time constaint\n",
    "xsp=zeros(NS); # set-point\n",
    "d=zeros(NS);   # disturbance \n",
    "\n",
    "  K[1] =  1.0;\n",
    " x0[1] =  0.0;\n",
    " Kd[1] =  0.5;\n",
    "tau[1] =  1.0;\n",
    "xsp[1] = -1.0;\n",
    "  d[1] = -1.0;\n",
    "\n",
    "  K[2] =  1.0;\n",
    " x0[2] =  0.0;\n",
    " Kd[2] =  0.5;\n",
    "tau[2] =  1.0;\n",
    "xsp[2] = -2.0;\n",
    "  d[2] = -1.0;\n",
    "\n",
    "  K[3] =  1.0;\n",
    " x0[3] =  0.0;\n",
    " Kd[3] =  0.5;\n",
    "tau[3] =  1.0;\n",
    "xsp[3] =  1.0;\n",
    "  d[3] = -1.0;\n",
    "\n",
    "include(\"createPIDmodel.jl\")  #scenario model building function\n",
    "\n",
    "# create two-stage graph moddel\n",
    "PID=GraphModel()\n",
    "master = Model()\n",
    "master_node = add_node(PID,master)\n",
    "\n",
    "# add variables to parent node \n",
    "@variable(master, -10<= Kc <=10)\n",
    "@variable(master,-100<=tauI<=100)\n",
    "@variable(master,-100<=tauD<=1000)\n",
    "\n",
    "# create array of children models\n",
    "PIDch=Array{JuMP.Model}(NS)\n",
    "for s in 1:NS           \n",
    "           # get scenario model\n",
    "           bl = get_scenario_model(s)\n",
    "           child = add_node(PID,bl)\n",
    "           # add children to parent node\n",
    "           PIDch[s] = add_node(PID,child)\n",
    "           # link children to parent variables\n",
    "           @linkconstraint(PID, PIDch[s][:Kc]==Kc)\n",
    "           @linkconstraint(PID, PIDch[s][:tauI]==tauI)\n",
    "           @linkconstraint(PID, PIDch[s][:tauD]==tauD)    \n",
    "end\n",
    "\n",
    "# solve with Ipopt\n",
    "#PID.solver = IpoptSolver()\n",
    "#solve(PID)\n",
    "#Ipopt_solve(PID)\n",
    "pipsnlp_solve(PID,master,PIDch)\n",
    "\n",
    "# get controller parameters\n",
    "println(getvalue(Kc))\n",
    "println(getvalue(tauI))\n",
    "println(getvalue(tauD))\n",
    "\n",
    "# plot responses\n",
    "x=zeros(NS,N)\n",
    "for s in 1:NS\n",
    "    for j=1:N\n",
    "    x[s,j]=getvalue(getvariable(PIDch[s],:x)[j]) \n",
    "    end\n",
    "end\n",
    "\n",
    "MPI.Finalize()\n"
   ]
  },
  {
   "cell_type": "code",
   "execution_count": 2,
   "metadata": {},
   "outputs": [
    {
     "ename": "LoadError",
     "evalue": "UndefVarError: plot not defined",
     "output_type": "error",
     "traceback": [
      "UndefVarError: plot not defined",
      ""
     ]
    }
   ],
   "source": [
    "plot(x=T, y=x[1,:]')"
   ]
  },
  {
   "cell_type": "code",
   "execution_count": 3,
   "metadata": {},
   "outputs": [
    {
     "ename": "LoadError",
     "evalue": "UndefVarError: plot not defined",
     "output_type": "error",
     "traceback": [
      "UndefVarError: plot not defined",
      ""
     ]
    }
   ],
   "source": [
    "plot(x=T, y=x[2,:]')"
   ]
  },
  {
   "cell_type": "code",
   "execution_count": 4,
   "metadata": {},
   "outputs": [
    {
     "ename": "LoadError",
     "evalue": "UndefVarError: plot not defined",
     "output_type": "error",
     "traceback": [
      "UndefVarError: plot not defined",
      ""
     ]
    }
   ],
   "source": [
    "plot(x=T, y=x[3,:]')"
   ]
  },
  {
   "cell_type": "code",
   "execution_count": null,
   "metadata": {
    "collapsed": true
   },
   "outputs": [],
   "source": []
  }
 ],
 "metadata": {
  "kernelspec": {
   "display_name": "Julia 0.5.0",
   "language": "julia",
   "name": "julia-0.5"
  },
  "language_info": {
   "file_extension": ".jl",
   "mimetype": "application/julia",
   "name": "julia",
   "version": "0.5.0"
  }
 },
 "nbformat": 4,
 "nbformat_minor": 2
}
