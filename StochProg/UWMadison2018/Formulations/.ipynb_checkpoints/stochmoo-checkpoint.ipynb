{
 "cells": [
  {
   "cell_type": "code",
   "execution_count": 24,
   "metadata": {},
   "outputs": [],
   "source": [
    "# illustration of multi-stakeholder optimization problem\n",
    "# victor m. zavala, 2017\n",
    "\n",
    "using JuMP \n",
    "using Ipopt \n",
    "using PyPlot\n",
    "\n",
    "# number of objectives\n",
    "nObj = 2\n",
    "\n",
    "# number of stakeholders\n",
    "nStake = 20;\n",
    "\n",
    "W = rand(nStake,nObj)\n",
    "for i = 1:size(W,1)\n",
    "W[i,:] = W[i,:] / sum(W[i,:])\n",
    "end\n",
    "\n",
    "# container for solutions\n",
    "x1v=zeros(nStake)\n",
    "x2v=zeros(nStake)\n",
    "cp=zeros(nStake)\n",
    "\n",
    "for p in 1:nStake\n",
    "\n",
    "# Model \n",
    "m = Model(solver=IpoptSolver(print_level=0))\n",
    "\n",
    "@variable(m, 0 <= x1<= 1)    \n",
    "@variable(m, 0 <= x2<= 1)  \n",
    "@variable(m,cost)\n",
    "@NLconstraint(m, cons, x1^2 + x2 == 1 ) \n",
    "@NLconstraint(m,costcons,cost== W[p,1]*(x1-1)^2 + W[p,2]*(x2-x1)^2)\n",
    "@NLobjective(m, Min,cost)\n",
    "   \n",
    "# solve model and get solution\n",
    "solve(m)\n",
    "    \n",
    "# collect solution    \n",
    "    x1v[p]=getvalue(x1);\n",
    "    x2v[p]=getvalue(x2);\n",
    "    cp[p]=getvalue(cost)\n",
    "end"
   ]
  },
  {
   "cell_type": "code",
   "execution_count": 25,
   "metadata": {},
   "outputs": [
    {
     "name": "stdout",
     "output_type": "stream",
     "text": [
      "This is Ipopt version 3.12.1, running with linear solver mumps.\n",
      "NOTE: Other linear solvers might be more efficient (see Ipopt documentation).\n",
      "\n",
      "Number of nonzeros in equality constraint Jacobian...:       62\n",
      "Number of nonzeros in inequality constraint Jacobian.:       60\n",
      "Number of nonzeros in Lagrangian Hessian.............:       61\n",
      "\n",
      "Total number of variables............................:       43\n",
      "                     variables with only lower bounds:       20\n",
      "                variables with lower and upper bounds:        2\n",
      "                     variables with only upper bounds:        0\n",
      "Total number of equality constraints.................:       21\n",
      "Total number of inequality constraints...............:       20\n",
      "        inequality constraints with only lower bounds:        0\n",
      "   inequality constraints with lower and upper bounds:        0\n",
      "        inequality constraints with only upper bounds:       20\n",
      "\n",
      "iter    objective    inf_pr   inf_du lg(mu)  ||d||  lg(rg) alpha_du alpha_pr  ls\n",
      "   0  9.9999900e-02 9.90e-01 9.59e-01  -1.0 0.00e+00    -  0.00e+00 0.00e+00   0\n",
      "   1  1.5883587e-01 7.74e-01 2.05e+01  -1.7 9.83e-01    -  1.02e-02 2.12e-01h  1\n",
      "   2  1.5305336e-01 5.70e-01 1.44e+01  -1.7 6.85e-01    -  1.53e-01 2.78e-01f  1\n",
      "   3  1.3472843e-01 5.04e-01 1.33e+01  -1.7 9.67e-01    -  2.00e-02 1.52e-01h  1\n",
      "   4  1.8357187e-01 6.25e-01 1.47e+01  -1.7 2.31e+00    -  4.96e-02 2.02e-01f  1\n",
      "   5  6.1860860e-01 3.95e-03 1.75e+00  -1.7 6.16e-01    -  6.95e-01 1.00e+00f  1\n",
      "   6  4.8109713e-01 1.11e-02 9.21e-01  -1.7 2.01e-01    -  3.62e-01 5.69e-01f  1\n",
      "   7  7.0181539e-01 8.89e-04 3.57e-01  -1.7 6.71e-02    -  5.70e-01 1.00e+00f  1\n",
      "   8  6.1736058e-01 1.27e-01 2.98e-01  -1.7 3.37e-01    -  3.71e-01 1.00e+00f  1\n",
      "   9  7.8267067e-01 2.10e-04 6.12e-03  -1.7 1.67e-01    -  1.00e+00 1.00e+00h  1\n",
      "iter    objective    inf_pr   inf_du lg(mu)  ||d||  lg(rg) alpha_du alpha_pr  ls\n",
      "  10  1.6060392e-01 1.66e-04 3.08e-03  -3.8 3.29e-01    -  9.90e-01 8.67e-01f  1\n",
      "  11  8.3456198e-02 7.14e-03 3.53e-02  -3.8 4.93e-02    -  1.00e+00 1.00e+00f  1\n",
      "  12  7.7674224e-02 2.11e-03 2.24e-03  -3.8 3.01e-02    -  1.00e+00 1.00e+00h  1\n",
      "  13  7.7729945e-02 2.15e-08 1.44e-06  -3.8 2.54e-03    -  1.00e+00 1.00e+00h  1\n",
      "  14  7.2222244e-02 1.36e-04 3.37e-04  -5.0 8.13e-03    -  1.00e+00 1.00e+00f  1\n",
      "  15  7.2160098e-02 5.67e-07 7.47e-07  -5.0 5.51e-04    -  1.00e+00 1.00e+00h  1\n",
      "\n",
      "Number of Iterations....: 15\n",
      "\n",
      "                                   (scaled)                 (unscaled)\n",
      "Objective...............:   7.2160097760256864e-02    7.2160097760256864e-02\n",
      "Dual infeasibility......:   7.4687823010559495e-07    7.4687823010559495e-07\n",
      "Constraint violation....:   5.6705472394058543e-07    5.6705472394058543e-07\n",
      "Complementarity.........:   9.6495703989700275e-06    9.6495703989700275e-06\n",
      "Overall NLP error.......:   9.6495703989700275e-06    9.6495703989700275e-06\n",
      "\n",
      "\n",
      "Number of objective function evaluations             = 16\n",
      "Number of objective gradient evaluations             = 16\n",
      "Number of equality constraint evaluations            = 16\n",
      "Number of inequality constraint evaluations          = 16\n",
      "Number of equality constraint Jacobian evaluations   = 16\n",
      "Number of inequality constraint Jacobian evaluations = 16\n",
      "Number of Lagrangian Hessian evaluations             = 15\n",
      "Total CPU secs in IPOPT (w/o function evaluations)   =      0.010\n",
      "Total CPU secs in NLP function evaluations           =      0.001\n",
      "\n",
      "EXIT: Optimal Solution Found.\n"
     ]
    },
    {
     "data": {
      "text/plain": [
       ":Optimal"
      ]
     },
     "execution_count": 25,
     "metadata": {},
     "output_type": "execute_result"
    }
   ],
   "source": [
    "# Compute compromise solution using cvar\n",
    "P=1:nStake\n",
    "alpha=0.1\n",
    "\n",
    "m = Model(solver=IpoptSolver(tol = 1e-4, max_iter = 100,linear_solver =\"mumps\",mu_strategy=\"monotone\"))\n",
    "\n",
    "@variable(m, 0 <= x1<= 1)    \n",
    "@variable(m, 0 <= x2<= 1)  \n",
    "@variable(m, phi[P]>=0)\n",
    "@variable(m, cost[P])\n",
    "@variable(m, VaR)\n",
    "@NLconstraint(m, cons, x1^2 + x2 == 1 ) \n",
    "@NLconstraint(m,costcons[p in P],cost[p]== W[p,1]*(x1-1)^2 + W[p,2]*(x2-x1)^2)\n",
    "@NLconstraint(m,cvarcons[p in P],cost[p] - VaR <= phi[p])\n",
    "@NLobjective(m, Min, VaR+(1/(alpha*nStake))*sum{phi[p],p in P})\n",
    "   \n",
    "# solve model and get solution\n",
    "solve(m)\n"
   ]
  },
  {
   "cell_type": "code",
   "execution_count": 26,
   "metadata": {},
   "outputs": [
    {
     "data": {
      "image/png": "[encoded data removed]",
      "text/plain": [
       "PyPlot.Figure(PyObject <matplotlib.figure.Figure object at 0x7f74e2cfac90>)"
      ]
     },
     "metadata": {},
     "output_type": "display_data"
    },
    {
     "data": {
      "text/plain": [
       "PyObject <matplotlib.text.Text object at 0x7f74e2b21fd0>"
      ]
     },
     "execution_count": 26,
     "metadata": {},
     "output_type": "execute_result"
    }
   ],
   "source": [
    "cx1=zeros(1)\n",
    "cx2=zeros(1)\n",
    "cx1=getvalue(x1)\n",
    "cx2=getvalue(x2)\n",
    "\n",
    "# visualize Pareto set\n",
    "scatter(x1v,x2v,color=\"blue\",marker=\"o\")\n",
    "grid(\"on\")\n",
    "hold(\"on\")\n",
    "scatter(cx1,cx2,color=\"red\",marker=\".\")\n",
    "xlabel(\"f1\")\n",
    "ylabel(\"f2\")"
   ]
  },
  {
   "cell_type": "code",
   "execution_count": null,
   "metadata": {
    "collapsed": true
   },
   "outputs": [],
   "source": []
  }
 ],
 "metadata": {
  "anaconda-cloud": {},
  "kernelspec": {
   "display_name": "Julia 0.5.0",
   "language": "julia",
   "name": "julia-0.5"
  },
  "language_info": {
   "file_extension": ".jl",
   "mimetype": "application/julia",
   "name": "julia",
   "version": "0.5.0"
  }
 },
 "nbformat": 4,
 "nbformat_minor": 1
}
