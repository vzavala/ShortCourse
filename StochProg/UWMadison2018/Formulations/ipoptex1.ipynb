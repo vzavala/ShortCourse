{
 "cells": [
  {
   "cell_type": "markdown",
   "metadata": {},
   "source": [
    "IPOPT Tutorial Example\n",
    "\n",
    "Victor M. Zavala 2016 \n",
    "\n",
    "University of Wisconsin-Madison  "
   ]
  },
  {
   "cell_type": "code",
   "execution_count": null,
   "metadata": {
    "collapsed": true
   },
   "outputs": [],
   "source": [
    "using JuMP \n",
    "using Ipopt "
   ]
  },
  {
   "cell_type": "code",
   "execution_count": null,
   "metadata": {
    "collapsed": false
   },
   "outputs": [],
   "source": [
    "# Model \n",
    "m = Model(solver=IpoptSolver(tol = 1e-4, max_iter = 100,linear_solver =\"mumps\",mu_strategy=\"monotone\"))\n",
    "\n",
    "@variable(m, x >= 0)    \n",
    "@variable(m, y >= 0)    \n",
    "\n",
    "@NLconstraint(m, cons, x^2+y^2==1) \n",
    "\n",
    "@NLobjective(m, Min, (x-1)^2 + (x-y)^3)\n",
    "\n",
    "# print model\n",
    "println(\"\\n\")\n",
    "print(m)\n",
    "println(\"\\n\")"
   ]
  },
  {
   "cell_type": "code",
   "execution_count": null,
   "metadata": {
    "collapsed": false
   },
   "outputs": [],
   "source": [
    "# solve model and get solution\n",
    "solve(m)\n",
    "println(\"x = \", getvalue(x), \"\\ny = \", getvalue(y))"
   ]
  }
 ],
 "metadata": {
  "kernelspec": {
   "display_name": "Julia 0.4.5",
   "language": "julia",
   "name": "julia-0.4"
  },
  "language_info": {
   "file_extension": ".jl",
   "mimetype": "application/julia",
   "name": "julia",
   "version": "0.4.5"
  }
 },
 "nbformat": 4,
 "nbformat_minor": 0
}
