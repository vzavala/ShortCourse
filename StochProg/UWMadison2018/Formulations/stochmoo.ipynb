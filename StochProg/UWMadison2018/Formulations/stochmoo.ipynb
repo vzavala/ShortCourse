{
 "cells": [
  {
   "cell_type": "code",
   "execution_count": 1,
   "metadata": {
    "collapsed": false
   },
   "outputs": [
    {
     "name": "stdout",
     "output_type": "stream",
     "text": [
      "\n",
      "******************************************************************************\n",
      "This program contains Ipopt, a library for large-scale nonlinear optimization.\n",
      " Ipopt is released as open source code under the Eclipse Public License (EPL).\n",
      "         For more information visit http://projects.coin-or.org/Ipopt\n",
      "******************************************************************************\n",
      "\n"
     ]
    },
    {
     "name": "stderr",
     "output_type": "stream",
     "text": [
      "WARNING: Method definition macroexpand(Module, Any) in module Compat at /home/juser/.julia/v0.5/Compat/src/Compat.jl:1491 overwritten in module MacroTools at /opt/julia_packages/.julia/v0.5/MacroTools/src/utils.jl:64.\n"
     ]
    }
   ],
   "source": [
    "# illustration of multi-stakeholder optimization problem\n",
    "# victor m. zavala, 2017\n",
    "\n",
    "using JuMP \n",
    "using Ipopt \n",
    "using PyPlot\n",
    "\n",
    "# number of objectives\n",
    "nObj = 2\n",
    "\n",
    "# number of stakeholders\n",
    "nStake = 20;\n",
    "\n",
    "# get weights and normalize them\n",
    "W = rand(nStake,nObj)\n",
    "for i = 1:size(W,1)\n",
    "W[i,:] = W[i,:] / sum(W[i,:])\n",
    "end\n",
    "\n",
    "# container for solutions\n",
    "f1v=zeros(nStake)\n",
    "f2v=zeros(nStake)\n",
    "cp=zeros(nStake)\n",
    "\n",
    "for p in 1:nStake\n",
    "\n",
    "# Model \n",
    "m = Model(solver=IpoptSolver(print_level=0))\n",
    "\n",
    "@variable(m, 0 <= x1<= 1)    \n",
    "@variable(m, 0 <= x2<= 1)  \n",
    "@variable(m,cost)\n",
    "@NLconstraint(m, cons, x1^2 + x2 == 1 ) \n",
    "@NLconstraint(m,costcons,cost== W[p,1]*(x1-1)^2 + W[p,2]*(x2-x1)^2)\n",
    "@NLobjective(m, Min,cost)\n",
    "   \n",
    "# solve model and get solution\n",
    "solve(m)\n",
    "    \n",
    "# collect solution    \n",
    "    f1v[p]=(getvalue(x1)-1)^2\n",
    "    f2v[p]=(getvalue(x2)-getvalue(x1))^2\n",
    "    cp[p]=getvalue(cost)\n",
    "end"
   ]
  },
  {
   "cell_type": "code",
   "execution_count": 2,
   "metadata": {
    "collapsed": false
   },
   "outputs": [
    {
     "name": "stdout",
     "output_type": "stream",
     "text": [
      "This is Ipopt version 3.12.1, running with linear solver mumps.\n",
      "NOTE: Other linear solvers might be more efficient (see Ipopt documentation).\n",
      "\n",
      "Number of nonzeros in equality constraint Jacobian...:       62\n",
      "Number of nonzeros in inequality constraint Jacobian.:       60\n",
      "Number of nonzeros in Lagrangian Hessian.............:       61\n",
      "\n",
      "Total number of variables............................:       43\n",
      "                     variables with only lower bounds:       20\n",
      "                variables with lower and upper bounds:        2\n",
      "                     variables with only upper bounds:        0\n",
      "Total number of equality constraints.................:       21\n",
      "Total number of inequality constraints...............:       20\n",
      "        inequality constraints with only lower bounds:        0\n",
      "   inequality constraints with lower and upper bounds:        0\n",
      "        inequality constraints with only upper bounds:       20\n",
      "\n",
      "iter    objective    inf_pr   inf_du lg(mu)  ||d||  lg(rg) alpha_du alpha_pr  ls\n",
      "   0  9.9999900e-02 9.90e-01 9.53e-01  -1.0 0.00e+00    -  0.00e+00 0.00e+00   0\n",
      "   1  1.5724073e-01 7.96e-01 1.84e+01  -1.7 9.84e-01    -  1.02e-02 1.92e-01h  1\n",
      "   2  1.3593008e-01 4.65e-01 1.09e+01  -1.7 7.27e-01    -  1.24e-01 3.72e-01f  1\n",
      "   3  5.6706481e-02 4.53e-01 1.25e+01  -1.7 3.17e+00    -  1.23e-02 8.38e-02F  1\n",
      "   4  3.3035418e-01 4.57e-01 1.98e+01  -1.7 6.12e-01    -  3.79e-01 8.66e-01f  1\n",
      "   5  9.5614279e-01 7.32e-03 5.06e+00  -1.7 5.69e-01    -  1.68e-01 1.00e+00h  1\n",
      "   6  4.1535063e-01 7.57e-02 1.67e+00  -1.7 5.38e-01    -  6.60e-01 7.40e-01f  1\n",
      "   7  6.1725775e-01 6.95e-03 2.79e-01  -1.7 6.74e-02    -  6.22e-01 1.00e+00f  1\n",
      "   8  5.9363225e-01 1.25e-01 1.79e-01  -1.7 2.66e-01    -  4.65e-01 1.00e+00f  1\n",
      "   9  2.0536042e-01 4.60e-03 6.05e-03  -2.5 1.89e-01    -  9.45e-01 1.00e+00h  1\n",
      "iter    objective    inf_pr   inf_du lg(mu)  ||d||  lg(rg) alpha_du alpha_pr  ls\n",
      "  10  4.7808642e-02 7.86e-04 2.50e-03  -3.8 1.29e-01    -  1.00e+00 8.41e-01h  1\n",
      "  11  2.5784104e-02 3.13e-03 1.51e-02  -3.8 3.54e-02    -  1.00e+00 1.00e+00h  1\n",
      "  12  2.7687365e-02 9.52e-04 2.29e-02  -3.8 1.95e-02    -  9.35e-01 1.00e+00h  1\n",
      "  13  2.7081123e-02 2.22e-04 7.38e-04  -3.8 9.58e-03    -  1.00e+00 1.00e+00h  1\n",
      "  14  2.4209497e-02 5.90e-05 5.75e-03  -5.0 3.21e-03    -  7.06e-01 7.69e-01h  1\n",
      "  15  2.3573682e-02 1.63e-05 5.18e-03  -5.0 2.27e-03    -  1.00e+00 8.97e-01h  1\n",
      "  16  2.3522338e-02 6.66e-09 4.20e-08  -5.0 1.44e-04    -  1.00e+00 1.00e+00f  1\n",
      "\n",
      "Number of Iterations....: 16\n",
      "\n",
      "                                   (scaled)                 (unscaled)\n",
      "Objective...............:   2.3522337751568319e-02    2.3522337751568319e-02\n",
      "Dual infeasibility......:   4.2003867094718113e-08    4.2003867094718113e-08\n",
      "Constraint violation....:   6.6648171322125638e-09    6.6648171322125638e-09\n",
      "Complementarity.........:   9.3831012173167527e-06    9.3831012173167527e-06\n",
      "Overall NLP error.......:   9.3831012173167527e-06    9.3831012173167527e-06\n",
      "\n",
      "\n",
      "Number of objective function evaluations             = 18\n",
      "Number of objective gradient evaluations             = 17\n",
      "Number of equality constraint evaluations            = 18\n",
      "Number of inequality constraint evaluations          = 18\n",
      "Number of equality constraint Jacobian evaluations   = 17\n",
      "Number of inequality constraint Jacobian evaluations = 17\n",
      "Number of Lagrangian Hessian evaluations             = 16\n",
      "Total CPU secs in IPOPT (w/o function evaluations)   =      0.012\n",
      "Total CPU secs in NLP function evaluations           =      0.000\n",
      "\n",
      "EXIT: Optimal Solution Found.\n"
     ]
    }
   ],
   "source": [
    "# Compute compromise solution using cvar\n",
    "P=1:nStake\n",
    "alpha=0.1\n",
    "\n",
    "m = Model(solver=IpoptSolver(tol = 1e-4, max_iter = 100,linear_solver =\"mumps\",mu_strategy=\"monotone\"))\n",
    "\n",
    "@variable(m, 0 <= x1<= 1)    \n",
    "@variable(m, 0 <= x2<= 1)  \n",
    "@variable(m, phi[P]>=0)\n",
    "@variable(m, dis[P])\n",
    "@variable(m, VaR)\n",
    "@NLconstraint(m, cons, x1^2 + x2 == 1 ) \n",
    "@NLconstraint(m,costcons[p in P],dis[p]== W[p,1]*(x1-1)^2 + W[p,2]*(x2-x1)^2-cp[p])\n",
    "@NLconstraint(m,cvarcons[p in P],dis[p] - VaR <= phi[p])\n",
    "@NLobjective(m, Min, VaR+(1/(alpha*nStake))*sum(phi[p] for p in P))\n",
    "   \n",
    "# solve model and get solution\n",
    "solve(m)\n"
   ]
  },
  {
   "cell_type": "code",
   "execution_count": 3,
   "metadata": {
    "collapsed": false
   },
   "outputs": [
    {
     "data": {
      "image/png": "[encoded data removed]",
      "text/plain": [
       "PyPlot.Figure(PyObject <matplotlib.figure.Figure object at 0x7fec1edcdf10>)"
      ]
     },
     "metadata": {},
     "output_type": "display_data"
    },
    {
     "data": {
      "text/plain": [
       "PyObject <matplotlib.text.Text object at 0x7fec1c111490>"
      ]
     },
     "execution_count": 3,
     "metadata": {},
     "output_type": "execute_result"
    }
   ],
   "source": [
    "cx1=zeros(1)\n",
    "cx2=zeros(1)\n",
    "cx1=(getvalue(x1)-1)^2\n",
    "cx2=(getvalue(x2)-getvalue(x1))^2\n",
    "\n",
    "# visualize Pareto set and compromise\n",
    "scatter(f1v,f2v,color=\"blue\",marker=\"o\")\n",
    "grid(\"on\")\n",
    "scatter(cx1,cx2,color=\"red\",marker=\".\")\n",
    "xlabel(\"f1\")\n",
    "ylabel(\"f2\")"
   ]
  }
 ],
 "metadata": {
  "anaconda-cloud": {},
  "kernelspec": {
   "display_name": "Julia 0.5.2",
   "language": "julia",
   "name": "julia-0.5"
  },
  "language_info": {
   "file_extension": ".jl",
   "mimetype": "application/julia",
   "name": "julia",
   "version": "0.5.2"
  }
 },
 "nbformat": 4,
 "nbformat_minor": 1
}
