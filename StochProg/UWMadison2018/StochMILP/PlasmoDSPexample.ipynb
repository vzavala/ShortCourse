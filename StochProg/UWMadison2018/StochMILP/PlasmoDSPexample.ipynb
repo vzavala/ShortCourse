{
 "cells": [
  {
   "cell_type": "code",
   "execution_count": 1,
   "metadata": {},
   "outputs": [
    {
     "name": "stdout",
     "output_type": "stream",
     "text": [
      "Finding a good lower bound using Dual Decomposition...\n",
      "\n",
      "DUAL DECOMPOSITION ITERATION INFORMATION:\n",
      "* master   = objective function value of the master problem.\n",
      "* primobj  = best primal objective function value.\n",
      "* dualobj  = best dual objective function value.\n",
      "* a.gap(%) = Approximate gap between master and dualobj.\n",
      "* d.gap(%) = Duality gap between primobj and dualobj.\n",
      "* times    = wall clock time in seconds.\n",
      "\n",
      "  iter         master        primobj        dualobj  a.gap(%)  d.gap(%)    time\n",
      " D   0  -3.994444e+01          Large  -3.994444e+01      0.00    100.00     0.0\n",
      "Tr  STOP with gap tolerance +3.055334e-13 (0.00%).\n",
      "Best lower bound -3.994444e+01, time elapsed: 0.00 sec.\n",
      "presolving (3 rounds):\n",
      " 0 deleted vars, 0 deleted constraints, 0 added constraints, 2 tightened bounds, 0 added holes, 0 changed sides, 0 changed coefficients\n",
      " 0 implications, 0 cliques\n",
      "presolved problem has 3 variables (0 bin, 2 int, 0 impl, 1 cont) and 2 constraints\n",
      "\n",
      " time | node  | left  |LP iter|LP it/n| mem |mdpt |frac |vars |cons |cols |rows |cuts |confs|strbr|  dualbound   | primalbound  |  gap   \n",
      "b 0.0s|     1 |     0 |     1 |     - | 171k|   0 |   - |   3 |   2 |   3 |   1 |   1 |   0 |   0 |-3.994444e+01 |-3.994444e+01 |   0.00%\n",
      "  0.0s|     1 |     0 |     1 |     - | 171k|   0 |   - |   3 |   2 |   3 |   1 |   1 |   0 |   0 |-3.994444e+01 |-3.994444e+01 |   0.00%\n",
      "\n",
      "SCIP Status        : problem is solved [optimal solution found]\n",
      "Solving Time (sec) : 0.00\n",
      "Solving Nodes      : 1\n",
      "Primal Bound       : -3.99444444444444e+01 (6 solutions)\n",
      "Dual Bound         : -3.99444444444444e+01\n",
      "Gap                : 0.00 %\n",
      "[5.0,5.0]\n",
      "[0.333333,0.0,0.0,0.0]\n",
      "[1.0,0.0,0.0,0.0]\n",
      "[1.0,0.0,0.0,0.0]\n"
     ]
    }
   ],
   "source": [
    "using JuMP, Plasmo,MPI\n",
    "\n",
    "MPI.Init()\n",
    "xi = [[7,7] [11,11] [13,13]]\n",
    "\n",
    "# create empty Plasmo model\n",
    "graph = GraphModel()\n",
    "master = Model()\n",
    "master_node = add_node(graph,master)\n",
    "\n",
    "@variable(master, 0 <= x[i=1:2] <= 5, Int)\n",
    "@objective(master, Min, -1.5 * x[1] - 4 * x[2])\n",
    "children_nodes = Array{NodeOrEdge}(3)\n",
    "for s = 1:3\n",
    "    # create a JuMP.Model block linked to m with id s and probability 1/3\n",
    "    blk = Model()\n",
    "    child_node = add_node(graph,blk)\n",
    "    children_nodes[s] = child_node\n",
    "    @variable(blk, y[j=1:4], Bin)\n",
    "    @objective(blk, Min, -16 * y[1] + 19 * y[2] + 23 * y[3] + 28 * y[4])\n",
    "    @linkconstraint(graph, 2 * y[1] + 3 * y[2] + 4 * y[3] + 5 * y[4] <= xi[1,s] - master[:x][1])\n",
    "    @linkconstraint(graph, 6 * y[1] + y[2] + 3 * y[3] + 2 * y[4] <= xi[2,s] - master[:x][2])\n",
    "end\n",
    "\n",
    "solve_types = [:Dual, :Benders, :Extensive]\n",
    "status = dsp_solve(graph,master_node,children_nodes,solve_type = solve_types[2])  #probabilities are 1/NS by default\n",
    "\n",
    "# get optimal objective value\n",
    "getobjectivevalue(master)\n",
    "\n",
    "# get first-stage variables\n",
    "println(getvalue(master[:x]))\n",
    "\n",
    "# get recourse veriables\n",
    "for node in children_nodes\n",
    "   println(getvalue(node[:y]))\n",
    "end\n",
    "\n",
    "MPI.Finalize()"
   ]
  },
  {
   "cell_type": "code",
   "execution_count": null,
   "metadata": {
    "collapsed": true
   },
   "outputs": [],
   "source": []
  }
 ],
 "metadata": {
  "anaconda-cloud": {},
  "kernelspec": {
   "display_name": "Julia 0.5.0",
   "language": "julia",
   "name": "julia-0.5"
  },
  "language_info": {
   "file_extension": ".jl",
   "mimetype": "application/julia",
   "name": "julia",
   "version": "0.5.0"
  }
 },
 "nbformat": 4,
 "nbformat_minor": 1
}
